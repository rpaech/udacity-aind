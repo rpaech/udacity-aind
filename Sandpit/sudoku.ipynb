{
 "cells": [
  {
   "cell_type": "markdown",
   "metadata": {},
   "source": [
    "# Sudoku solver"
   ]
  },
  {
   "cell_type": "code",
   "execution_count": 58,
   "metadata": {},
   "outputs": [],
   "source": [
    "rows = 'ABCDEFGHI'\n",
    "cols = '123456789'"
   ]
  },
  {
   "cell_type": "code",
   "execution_count": 59,
   "metadata": {},
   "outputs": [],
   "source": [
    "def cross(a, b):\n",
    "    return [s + t for s in a for t in b]"
   ]
  },
  {
   "cell_type": "markdown",
   "metadata": {},
   "source": [
    "## Setup boxes, units and peers\n",
    "\n",
    "Let's start naming the important elements created by these rows and columns that are relevant to solving a Sudoku:\n",
    "\n",
    "- The individual squares at the intersection of rows and columns will be called __boxes__. These boxes will have labels 'A1', 'A2', ..., 'I9'.\n",
    "- The complete rows, columns, and 3x3 squares, will be called __units__. Thus, each unit is a set of 9 boxes, and there are 27 units in total.\n",
    "- For a particular box (such as 'A1'), its __peers__ will be all other boxes that belong to a common unit (namely, those that belong to the same row, column, or 3x3 square)."
   ]
  },
  {
   "cell_type": "code",
   "execution_count": 60,
   "metadata": {},
   "outputs": [],
   "source": [
    "boxes = cross(rows, cols)"
   ]
  },
  {
   "cell_type": "code",
   "execution_count": 61,
   "metadata": {},
   "outputs": [],
   "source": [
    "row_units = [cross(r, cols) for r in rows]\n",
    "\n",
    "column_units = [cross(rows, c) for c in cols]\n",
    "\n",
    "square_units = [cross(rs, cs) for rs in ('ABC','DEF','GHI') \n",
    "                              for cs in ('123','456','789')]\n",
    "\n",
    "unitlist = row_units + column_units + square_units"
   ]
  },
  {
   "cell_type": "code",
   "execution_count": 62,
   "metadata": {},
   "outputs": [],
   "source": [
    "#units_dict = dict((b, [u for u in unit_list if b in u]) for b in boxes)"
   ]
  },
  {
   "cell_type": "code",
   "execution_count": 63,
   "metadata": {},
   "outputs": [],
   "source": [
    "def create_units_dict():\n",
    "\n",
    "    units_dict = dict(zip(boxes, [[] for _ in boxes]))\n",
    "    \n",
    "    for unit in unitlist:\n",
    "        for box in unit:\n",
    "            units_dict[box].append(unit)\n",
    "\n",
    "    return units_dict\n",
    "\n",
    "units_dict = create_units_dict()"
   ]
  },
  {
   "cell_type": "code",
   "execution_count": 64,
   "metadata": {},
   "outputs": [],
   "source": [
    "#peers_dict = dict((s, set(sum(units_dict[s], [])) - set([s])) for s in boxes)"
   ]
  },
  {
   "cell_type": "code",
   "execution_count": 65,
   "metadata": {},
   "outputs": [],
   "source": [
    "def create_peers_dict():\n",
    "\n",
    "    peers_dict = {}\n",
    "    \n",
    "    for box in boxes:\n",
    "        blist = [b for u in units_dict[box] for b in u]\n",
    "        box_peers = set(blist) - set([box])\n",
    "        peers_dict[box] = box_peers\n",
    "        \n",
    "    return peers_dict\n",
    "\n",
    "peers_dict = create_peers_dict()"
   ]
  },
  {
   "cell_type": "code",
   "execution_count": 66,
   "metadata": {},
   "outputs": [],
   "source": [
    "def display(values):\n",
    "\n",
    "    width = 1 + max(len(values[s]) for s in boxes)\n",
    "\n",
    "    line = '+'.join(['-' * (width * 3)] * 3)\n",
    "\n",
    "    for r in rows:\n",
    "        print(''.join(values[r + c].center(width) \n",
    "                      + ('|' if c in '36' else '') for c in cols))\n",
    "        if r in 'CF': \n",
    "            print(line)"
   ]
  },
  {
   "cell_type": "code",
   "execution_count": 67,
   "metadata": {},
   "outputs": [],
   "source": [
    "puzzle1 = '..3.2.6..9..3.5..1..18.64....81.29..7.......8..67.82....26.95..8..2.3..9..5.1.3..'\n",
    "puzzle2 = '4.....8.5.3..........7......2.....6.....8.4......1.......6.3.7.5..2.....1.4......'"
   ]
  },
  {
   "cell_type": "code",
   "execution_count": 68,
   "metadata": {},
   "outputs": [],
   "source": [
    "def grid_values(grid):\n",
    "    \n",
    "    assert len(grid) == len(boxes)\n",
    "    \n",
    "    return dict(zip(boxes, [v for v in grid]))"
   ]
  },
  {
   "cell_type": "code",
   "execution_count": 69,
   "metadata": {},
   "outputs": [],
   "source": [
    "def init_state(values):\n",
    "    \n",
    "    values_string = '123456789'\n",
    "\n",
    "    result = values.copy()\n",
    "    for box in boxes:\n",
    "        if result[box] == \".\":\n",
    "            result[box] = values_string\n",
    "\n",
    "    return result"
   ]
  },
  {
   "cell_type": "code",
   "execution_count": 70,
   "metadata": {},
   "outputs": [],
   "source": [
    "def eliminate(values):\n",
    "\n",
    "    solved_boxes = [box for box in values.keys() if len(values[box]) == 1]\n",
    "\n",
    "    result = values.copy()\n",
    "    \n",
    "    for box in solved_boxes:\n",
    "        for peer in peers_dict[box]:\n",
    "            result[peer] = result[peer].replace(result[box], '')\n",
    "            \n",
    "    return result"
   ]
  },
  {
   "cell_type": "code",
   "execution_count": 71,
   "metadata": {},
   "outputs": [],
   "source": [
    "def only_choice(values):\n",
    "    \n",
    "    values_string = '123456789'\n",
    "\n",
    "    result = values.copy()\n",
    "    for unit in unitlist:\n",
    "\n",
    "        value_blist_dict = {v:[] for v in values_string}\n",
    "\n",
    "        for box in unit:\n",
    "            for v in values[box]:\n",
    "                value_blist_dict[v].append(box)\n",
    "        \n",
    "        for v in value_blist_dict:\n",
    "            blist = value_blist_dict[v]\n",
    "            if len(blist) == 1:\n",
    "                result[blist[0]] = v\n",
    "\n",
    "    return result"
   ]
  },
  {
   "cell_type": "code",
   "execution_count": 72,
   "metadata": {},
   "outputs": [],
   "source": [
    "def reduce_puzzle(values):\n",
    "\n",
    "    stalled = False\n",
    "    while not stalled:\n",
    "\n",
    "        solved_count_before = len([box for box in values.keys() \n",
    "                                   if len(values[box]) == 1])\n",
    "\n",
    "        values = eliminate(values)\n",
    "        values = only_choice(values)\n",
    "\n",
    "        solved_count_after = len([box for box in values.keys() \n",
    "                                  if len(values[box]) == 1])\n",
    "\n",
    "        stalled = (solved_count_before == solved_count_after)\n",
    "\n",
    "        if len([box for box in values.keys() if len(values[box]) == 0]):\n",
    "            return False\n",
    "\n",
    "    return values"
   ]
  },
  {
   "cell_type": "code",
   "execution_count": 73,
   "metadata": {},
   "outputs": [],
   "source": [
    "def search(values):\n",
    "    \n",
    "    values = reduce_puzzle(values)\n",
    "    if values is False:\n",
    "        return False\n",
    "    if all(len(values[b]) == 1 for b in boxes): \n",
    "        return values\n",
    "    \n",
    "    _, b = min((len(values[b]), b) for b in boxes if len(values[b]) > 1)\n",
    "    \n",
    "    for v in values[b]:\n",
    "\n",
    "        test_values = values.copy()\n",
    "        test_values[b] = v\n",
    "\n",
    "        test_result = search(test_values)\n",
    "        if test_result:\n",
    "            return test_result"
   ]
  },
  {
   "cell_type": "code",
   "execution_count": 74,
   "metadata": {},
   "outputs": [],
   "source": [
    "def solve(values):\n",
    "\n",
    "    values = init_state(values)\n",
    "    values = search(values)\n",
    "\n",
    "    return values"
   ]
  },
  {
   "cell_type": "code",
   "execution_count": 75,
   "metadata": {},
   "outputs": [
    {
     "name": "stdout",
     "output_type": "stream",
     "text": [
      "Initial puzzle state...\n",
      ". . 3 |. 2 . |6 . . \n",
      "9 . . |3 . 5 |. . 1 \n",
      ". . 1 |8 . 6 |4 . . \n",
      "------+------+------\n",
      ". . 8 |1 . 2 |9 . . \n",
      "7 . . |. . . |. . 8 \n",
      ". . 6 |7 . 8 |2 . . \n",
      "------+------+------\n",
      ". . 2 |6 . 9 |5 . . \n",
      "8 . . |2 . 3 |. . 9 \n",
      ". . 5 |. 1 . |3 . . \n",
      "\n",
      "Final puzzle state...\n",
      "4 8 3 |9 2 1 |6 5 7 \n",
      "9 6 7 |3 4 5 |8 2 1 \n",
      "2 5 1 |8 7 6 |4 9 3 \n",
      "------+------+------\n",
      "5 4 8 |1 3 2 |9 7 6 \n",
      "7 2 9 |5 6 4 |1 3 8 \n",
      "1 3 6 |7 9 8 |2 4 5 \n",
      "------+------+------\n",
      "3 7 2 |6 8 9 |5 1 4 \n",
      "8 1 4 |2 5 3 |7 6 9 \n",
      "6 9 5 |4 1 7 |3 8 2 \n"
     ]
    }
   ],
   "source": [
    "values = grid_values(puzzle1)\n",
    "\n",
    "print(\"Initial puzzle state...\")\n",
    "display(values)\n",
    "\n",
    "values = solve(values)\n",
    "\n",
    "print()\n",
    "print(\"Final puzzle state...\")\n",
    "display(values)"
   ]
  },
  {
   "cell_type": "code",
   "execution_count": 76,
   "metadata": {},
   "outputs": [
    {
     "name": "stdout",
     "output_type": "stream",
     "text": [
      "Initial puzzle state...\n",
      "4 . . |. . . |8 . 5 \n",
      ". 3 . |. . . |. . . \n",
      ". . . |7 . . |. . . \n",
      "------+------+------\n",
      ". 2 . |. . . |. 6 . \n",
      ". . . |. 8 . |4 . . \n",
      ". . . |. 1 . |. . . \n",
      "------+------+------\n",
      ". . . |6 . 3 |. 7 . \n",
      "5 . . |2 . . |. . . \n",
      "1 . 4 |. . . |. . . \n",
      "\n",
      "Final puzzle state...\n",
      "4 1 7 |3 6 9 |8 2 5 \n",
      "6 3 2 |1 5 8 |9 4 7 \n",
      "9 5 8 |7 2 4 |3 1 6 \n",
      "------+------+------\n",
      "8 2 5 |4 3 7 |1 6 9 \n",
      "7 9 1 |5 8 6 |4 3 2 \n",
      "3 4 6 |9 1 2 |7 5 8 \n",
      "------+------+------\n",
      "2 8 9 |6 4 3 |5 7 1 \n",
      "5 7 3 |2 9 1 |6 8 4 \n",
      "1 6 4 |8 7 5 |2 9 3 \n"
     ]
    }
   ],
   "source": [
    "values = grid_values(puzzle2)\n",
    "\n",
    "print(\"Initial puzzle state...\")\n",
    "display(values)\n",
    "\n",
    "values = solve(values)\n",
    "\n",
    "print()\n",
    "print(\"Final puzzle state...\")\n",
    "display(values)"
   ]
  }
 ],
 "metadata": {
  "interpreter": {
   "hash": "23ec4c806166bc7379be8c0034501f0461d78ddd145aa47c24e9e81e5316dfde"
  },
  "kernelspec": {
   "display_name": "Python 3.9.6 64-bit ('aipy': conda)",
   "name": "python3"
  },
  "language_info": {
   "codemirror_mode": {
    "name": "ipython",
    "version": 3
   },
   "file_extension": ".py",
   "mimetype": "text/x-python",
   "name": "python",
   "nbconvert_exporter": "python",
   "pygments_lexer": "ipython3",
   "version": "3.9.6"
  },
  "orig_nbformat": 4
 },
 "nbformat": 4,
 "nbformat_minor": 2
}
