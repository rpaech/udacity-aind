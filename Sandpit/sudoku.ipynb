{
 "cells": [
  {
   "cell_type": "markdown",
   "metadata": {},
   "source": [
    "# Sudoku solver"
   ]
  },
  {
   "cell_type": "code",
   "execution_count": 76,
   "metadata": {},
   "outputs": [],
   "source": [
    "rows = 'ABCDEFGHI'\n",
    "cols = '123456789'"
   ]
  },
  {
   "cell_type": "code",
   "execution_count": 77,
   "metadata": {},
   "outputs": [],
   "source": [
    "def cross(a, b):\n",
    "    return [s + t for s in a for t in b]"
   ]
  },
  {
   "cell_type": "markdown",
   "metadata": {},
   "source": [
    "## Setup boxes, units and peers\n",
    "\n",
    "Let's start naming the important elements created by these rows and columns that are relevant to solving a Sudoku:\n",
    "\n",
    "- The individual squares at the intersection of rows and columns will be called __boxes__. These boxes will have labels 'A1', 'A2', ..., 'I9'.\n",
    "- The complete rows, columns, and 3x3 squares, will be called __units__. Thus, each unit is a set of 9 boxes, and there are 27 units in total.\n",
    "- For a particular box (such as 'A1'), its __peers__ will be all other boxes that belong to a common unit (namely, those that belong to the same row, column, or 3x3 square)."
   ]
  },
  {
   "cell_type": "code",
   "execution_count": 78,
   "metadata": {},
   "outputs": [],
   "source": [
    "boxes = cross(rows, cols)"
   ]
  },
  {
   "cell_type": "code",
   "execution_count": 79,
   "metadata": {},
   "outputs": [],
   "source": [
    "row_units = [cross(r, cols) for r in rows]\n",
    "\n",
    "column_units = [cross(rows, c) for c in cols]\n",
    "\n",
    "square_units = [cross(rs, cs) for rs in ('ABC','DEF','GHI') \n",
    "                              for cs in ('123','456','789')]\n",
    "\n",
    "unitlist = row_units + column_units + square_units"
   ]
  },
  {
   "cell_type": "code",
   "execution_count": 80,
   "metadata": {},
   "outputs": [],
   "source": [
    "#units_dict = dict((b, [u for u in unit_list if b in u]) for b in boxes)"
   ]
  },
  {
   "cell_type": "code",
   "execution_count": 81,
   "metadata": {},
   "outputs": [],
   "source": [
    "def create_units_dict():\n",
    "\n",
    "    units_dict = dict(zip(boxes, [[] for _ in boxes]))\n",
    "    \n",
    "    for unit in unitlist:\n",
    "        for box in unit:\n",
    "            units_dict[box].append(unit)\n",
    "\n",
    "    return units_dict\n",
    "\n",
    "units_dict = create_units_dict()"
   ]
  },
  {
   "cell_type": "code",
   "execution_count": 82,
   "metadata": {},
   "outputs": [],
   "source": [
    "#peers_dict = dict((s, set(sum(units_dict[s], [])) - set([s])) for s in boxes)"
   ]
  },
  {
   "cell_type": "code",
   "execution_count": 83,
   "metadata": {},
   "outputs": [],
   "source": [
    "def create_peers_dict():\n",
    "\n",
    "    peers_dict = {}\n",
    "    \n",
    "    for box in boxes:\n",
    "        blist = [b for u in units_dict[box] for b in u]\n",
    "        box_peers = set(blist) - set([box])\n",
    "        peers_dict[box] = box_peers\n",
    "        \n",
    "    return peers_dict\n",
    "\n",
    "peers_dict = create_peers_dict()"
   ]
  },
  {
   "cell_type": "code",
   "execution_count": 84,
   "metadata": {},
   "outputs": [],
   "source": [
    "def display(values):\n",
    "\n",
    "    width = 1 + max(len(values[s]) for s in boxes)\n",
    "\n",
    "    line = '+'.join(['-' * (width * 3)] * 3)\n",
    "\n",
    "    for r in rows:\n",
    "        print(''.join(values[r + c].center(width) \n",
    "                      + ('|' if c in '36' else '') for c in cols))\n",
    "        if r in 'CF': \n",
    "            print(line)"
   ]
  },
  {
   "cell_type": "code",
   "execution_count": 85,
   "metadata": {},
   "outputs": [],
   "source": [
    "def grid_values(grid):\n",
    "    \n",
    "    assert len(grid) == len(boxes)\n",
    "    \n",
    "    return dict(zip(boxes, [v for v in grid]))"
   ]
  },
  {
   "cell_type": "code",
   "execution_count": 86,
   "metadata": {},
   "outputs": [],
   "source": [
    "def init_state(values):\n",
    "    \n",
    "    values_string = '123456789'\n",
    "\n",
    "    for box in boxes:\n",
    "        if values[box] == \".\":\n",
    "            values[box] = values_string"
   ]
  },
  {
   "cell_type": "code",
   "execution_count": 87,
   "metadata": {},
   "outputs": [],
   "source": [
    "def eliminate(values):\n",
    "\n",
    "    solved_boxes = [box for box in values.keys() if len(values[box]) == 1]\n",
    "\n",
    "    for box in solved_boxes:\n",
    "        for peer in peers_dict[box]:\n",
    "            values[peer] = values[peer].replace(values[box], '')"
   ]
  },
  {
   "cell_type": "code",
   "execution_count": 88,
   "metadata": {},
   "outputs": [],
   "source": [
    "def only_choice(values):\n",
    "    \n",
    "    values_string = '123456789'\n",
    "\n",
    "    for unit in unitlist:\n",
    "\n",
    "        value_blist_dict = {v:[] for v in values_string}\n",
    "\n",
    "        for box in unit:\n",
    "            for v in values[box]:\n",
    "                value_blist_dict[v].append(box)\n",
    "        \n",
    "        for v in value_blist_dict:\n",
    "            blist = value_blist_dict[v]\n",
    "            if len(blist) == 1:\n",
    "                values[blist[0]] = v"
   ]
  },
  {
   "cell_type": "markdown",
   "metadata": {},
   "source": [
    "## Psuedocode for checking for naked twins...\n",
    "\n",
    "**function** NakedTwins(_values_) **returns** a dict mapping from Sudoku box names to a list of feasible values  \n",
    "&emsp;**inputs:**  \n",
    "&emsp;&emsp;_values_, a dict mapping from Sudoku box names to a list of feasible values  \n",
    "&emsp;_out_ <- **copy**(_values_)  /* make a deep copy */  \n",
    "&emsp;**for each** _boxA_ in _values_ **do**  \n",
    "&emsp;&emsp;**for each** _boxB_ of **PEERS**(_boxA_) **do**  \n",
    "&emsp;&emsp;&emsp;**if** both _values_[_boxA_] and _values_[_boxB_] exactly match and have only two feasible digits **do**  \n",
    "&emsp;&emsp;&emsp;&emsp;**for each** _peer_ of **INTERSECTION**(**PEERS**(_boxA_), **PEERS**(_boxB_)) **do**  \n",
    "&emsp;&emsp;&emsp;&emsp;&emsp;**for each** _digit_ of _values_[_boxA_] **do**  \n",
    "&emsp;&emsp;&emsp;&emsp;&emsp;&emsp;remove digit _d_ from _out_[_peer_]  \n",
    "&emsp;**return** _out_"
   ]
  },
  {
   "cell_type": "code",
   "execution_count": 90,
   "metadata": {},
   "outputs": [],
   "source": [
    "def remove(vstr1, vstr2):\n",
    "    for v in vstr1:\n",
    "        vstr2 = vstr2.replace(v, '')\n",
    "    return vstr2"
   ]
  },
  {
   "cell_type": "code",
   "execution_count": 98,
   "metadata": {},
   "outputs": [],
   "source": [
    "def naked_twins(values):\n",
    "    \n",
    "    for b1 in boxes:\n",
    "        values_b1 = values[b1]\n",
    "        if len(values_b1) == 2:\n",
    "            for b2 in peers_dict[b1]:\n",
    "                if values[b2] == values_b1:\n",
    "                    for b12_peer in (peers_dict[b1] & peers_dict[b2]):\n",
    "                        values[b12_peer] = remove(values_b1, values[b12_peer])"
   ]
  },
  {
   "cell_type": "code",
   "execution_count": 92,
   "metadata": {},
   "outputs": [],
   "source": [
    "def reduce_puzzle(values):\n",
    "\n",
    "    stalled = False\n",
    "    while not stalled:\n",
    "\n",
    "        solved_count_before = len([box for box in values.keys() \n",
    "                                   if len(values[box]) == 1])\n",
    "\n",
    "        eliminate(values)\n",
    "        only_choice(values)\n",
    "        naked_twins(values)\n",
    "\n",
    "        solved_count_after = len([box for box in values.keys() \n",
    "                                  if len(values[box]) == 1])\n",
    "\n",
    "        stalled = (solved_count_before == solved_count_after)\n",
    "\n",
    "        if len([box for box in values.keys() if len(values[box]) == 0]):\n",
    "            return False\n",
    "\n",
    "    return True"
   ]
  },
  {
   "cell_type": "code",
   "execution_count": 93,
   "metadata": {},
   "outputs": [],
   "source": [
    "def search_puzzle(values):\n",
    "    \n",
    "    if not reduce_puzzle(values):\n",
    "        return False\n",
    "\n",
    "    if all(len(values[b]) == 1 for b in boxes): \n",
    "        return True\n",
    "    \n",
    "    _, b = min((len(values[b]), b) for b in boxes if len(values[b]) > 1)\n",
    "    \n",
    "    for v in values[b]:\n",
    "\n",
    "        test_values = values.copy()\n",
    "        test_values[b] = v\n",
    "\n",
    "        if search_puzzle(test_values):\n",
    "            values.update(test_values)\n",
    "            return True\n",
    "    \n",
    "    return False"
   ]
  },
  {
   "cell_type": "code",
   "execution_count": 94,
   "metadata": {},
   "outputs": [],
   "source": [
    "def solve_puzzle(grid):\n",
    "\n",
    "    values = grid_values(grid)\n",
    "\n",
    "    print(\"Initial puzzle state...\")\n",
    "    display(values)\n",
    "    print()\n",
    "\n",
    "    init_state(values)\n",
    "    if search_puzzle(values):\n",
    "        print(\"Final puzzle state...\")\n",
    "        display(values)\n",
    "    else:\n",
    "        print(\"Couldn't solve puzzle.\")"
   ]
  },
  {
   "cell_type": "code",
   "execution_count": 99,
   "metadata": {},
   "outputs": [
    {
     "name": "stdout",
     "output_type": "stream",
     "text": [
      "Initial puzzle state...\n",
      ". . 3 |. 2 . |6 . . \n",
      "9 . . |3 . 5 |. . 1 \n",
      ". . 1 |8 . 6 |4 . . \n",
      "------+------+------\n",
      ". . 8 |1 . 2 |9 . . \n",
      "7 . . |. . . |. . 8 \n",
      ". . 6 |7 . 8 |2 . . \n",
      "------+------+------\n",
      ". . 2 |6 . 9 |5 . . \n",
      "8 . . |2 . 3 |. . 9 \n",
      ". . 5 |. 1 . |3 . . \n",
      "\n",
      "Found twins B3 and H3 with values 47\n",
      "Found twins B3 and B5 with values 47\n",
      "Peer B8 reduced from 278 to 28\n",
      "Found twins B5 and B3 with values 47\n",
      "Found twins H3 and B3 with values 47\n",
      "Found twins B3 and H3 with values 47\n",
      "Found twins D5 and E5 with values 36\n",
      "Found twins E5 and E8 with values 36\n",
      "Found twins E5 and D5 with values 36\n",
      "Found twins E8 and E5 with values 36\n",
      "Found twins H3 and B3 with values 47\n",
      "Final puzzle state...\n",
      "4 8 3 |9 2 1 |6 5 7 \n",
      "9 6 7 |3 4 5 |8 2 1 \n",
      "2 5 1 |8 7 6 |4 9 3 \n",
      "------+------+------\n",
      "5 4 8 |1 3 2 |9 7 6 \n",
      "7 2 9 |5 6 4 |1 3 8 \n",
      "1 3 6 |7 9 8 |2 4 5 \n",
      "------+------+------\n",
      "3 7 2 |6 8 9 |5 1 4 \n",
      "8 1 4 |2 5 3 |7 6 9 \n",
      "6 9 5 |4 1 7 |3 8 2 \n"
     ]
    }
   ],
   "source": [
    "puzzle1 = '..3.2.6..9..3.5..1..18.64..'\\\n",
    "          '..81.29..7.......8..67.82..'\\\n",
    "          '..26.95..8..2.3..9..5.1.3..'\n",
    "\n",
    "solve_puzzle(puzzle1)"
   ]
  },
  {
   "cell_type": "code",
   "execution_count": 100,
   "metadata": {},
   "outputs": [
    {
     "name": "stdout",
     "output_type": "stream",
     "text": [
      "Initial puzzle state...\n",
      "4 . . |. . . |8 . 5 \n",
      ". 3 . |. . . |. . . \n",
      ". . . |7 . . |. . . \n",
      "------+------+------\n",
      ". 2 . |. . . |. 6 . \n",
      ". . . |. 8 . |4 . . \n",
      ". . . |. 1 . |. . . \n",
      "------+------+------\n",
      ". . . |6 . 3 |. 7 . \n",
      "5 . . |2 . . |. . . \n",
      "1 . 4 |. . . |. . . \n",
      "\n",
      "Found twins G1 and G3 with values 29\n",
      "Peer I2 reduced from 679 to 67\n",
      "Peer H2 reduced from 679 to 67\n",
      "Peer G7 reduced from 1259 to 15\n",
      "Peer G9 reduced from 1249 to 14\n",
      "Peer G5 reduced from 459 to 45\n",
      "Found twins G3 and G1 with values 29\n",
      "Found twins H2 and I2 with values 67\n",
      "Peer C2 reduced from 1569 to 159\n",
      "Peer E2 reduced from 15679 to 159\n",
      "Peer A2 reduced from 1679 to 19\n",
      "Found twins I2 and H2 with values 67\n",
      "Found twins C2 and E2 with values 59\n",
      "Found twins E2 and C2 with values 59\n",
      "Found twins G1 and G3 with values 29\n",
      "Found twins G3 and G1 with values 29\n",
      "Found twins H2 and I2 with values 67\n",
      "Found twins I2 and H2 with values 67\n",
      "Found twins C2 and E2 with values 59\n",
      "Found twins E2 and C2 with values 59\n",
      "Found twins G1 and G3 with values 29\n",
      "Found twins G3 and G1 with values 29\n",
      "Found twins H2 and I2 with values 67\n",
      "Found twins I2 and H2 with values 67\n",
      "Found twins C2 and E2 with values 59\n",
      "Found twins E2 and C2 with values 59\n",
      "Found twins G1 and G3 with values 29\n",
      "Found twins G3 and G1 with values 29\n",
      "Found twins H2 and I2 with values 67\n",
      "Found twins I2 and H2 with values 67\n",
      "Found twins C2 and E2 with values 59\n",
      "Found twins E2 and C2 with values 59\n",
      "Found twins E2 and E4 with values 59\n",
      "Peer E6 reduced from 25679 to 267\n",
      "Peer E3 reduced from 1569 to 16\n",
      "Peer E9 reduced from 12379 to 1237\n",
      "Peer E8 reduced from 12359 to 123\n",
      "Peer E1 reduced from 3679 to 367\n",
      "Found twins E4 and E2 with values 59\n",
      "Found twins E4 and F4 with values 59\n",
      "Peer F6 reduced from 25679 to 267\n",
      "Peer D6 reduced from 579 to 7\n",
      "Found twins F4 and E4 with values 59\n",
      "Found twins G1 and G3 with values 29\n",
      "Found twins G3 and G1 with values 29\n",
      "Found twins H2 and I2 with values 67\n",
      "Found twins I2 and H2 with values 67\n",
      "Found twins C2 and E2 with values 59\n",
      "Found twins E2 and C2 with values 59\n",
      "Found twins E2 and E4 with values 59\n",
      "Found twins E4 and E2 with values 59\n",
      "Found twins E4 and F4 with values 59\n",
      "Found twins E6 and F6 with values 26\n",
      "Peer A6 reduced from 269 to 9\n",
      "Peer C6 reduced from 245689 to 4589\n",
      "Peer B6 reduced from 245689 to 4589\n",
      "Found twins F4 and E4 with values 59\n",
      "Found twins F6 and E6 with values 26\n",
      "Found twins G1 and G3 with values 29\n",
      "Found twins G3 and G1 with values 29\n",
      "Found twins H2 and I2 with values 67\n",
      "Found twins I2 and H2 with values 67\n",
      "Found twins C2 and E2 with values 59\n",
      "Found twins E2 and C2 with values 59\n",
      "Found twins E2 and E4 with values 59\n",
      "Found twins E4 and E2 with values 59\n",
      "Found twins E4 and F4 with values 59\n",
      "Found twins E6 and F6 with values 26\n",
      "Found twins F4 and E4 with values 59\n",
      "Found twins F6 and E6 with values 26\n",
      "Found twins G1 and G3 with values 29\n",
      "Found twins G3 and G1 with values 29\n",
      "Found twins H2 and I2 with values 67\n",
      "Found twins I2 and H2 with values 67\n",
      "Found twins B6 and C6 with values 48\n",
      "Peer B5 reduced from 245 to 25\n",
      "Peer C5 reduced from 245 to 25\n",
      "Found twins C2 and E2 with values 59\n",
      "Found twins C5 and B5 with values 25\n",
      "Found twins C6 and B6 with values 48\n",
      "Found twins E2 and C2 with values 59\n",
      "Found twins E2 and E4 with values 59\n",
      "Found twins E4 and E2 with values 59\n",
      "Found twins E4 and F4 with values 59\n",
      "Found twins E6 and F6 with values 26\n",
      "Found twins F4 and E4 with values 59\n",
      "Found twins F6 and E6 with values 26\n",
      "Found twins G1 and G3 with values 29\n",
      "Found twins G3 and G1 with values 29\n",
      "Found twins H2 and I2 with values 67\n",
      "Found twins I2 and H2 with values 67\n",
      "Found twins B5 and C5 with values 25\n",
      "Found twins B6 and C6 with values 48\n",
      "Found twins C2 and E2 with values 59\n",
      "Found twins C5 and B5 with values 25\n",
      "Found twins C6 and B6 with values 48\n",
      "Found twins D1 and D9 with values 89\n",
      "Peer D7 reduced from 19 to 1\n",
      "Found twins D9 and D1 with values 89\n",
      "Found twins E2 and C2 with values 59\n",
      "Found twins E6 and F6 with values 26\n",
      "Found twins F6 and E6 with values 26\n",
      "Found twins G1 and G3 with values 29\n",
      "Found twins G3 and G1 with values 29\n",
      "Found twins H2 and I2 with values 67\n",
      "Found twins H5 and I5 with values 79\n",
      "Found twins I2 and H2 with values 67\n",
      "Found twins I5 and H5 with values 79\n",
      "Found twins B6 and C6 with values 48\n",
      "Found twins C6 and B6 with values 48\n",
      "Found twins E6 and F6 with values 26\n",
      "Found twins F6 and E6 with values 26\n",
      "Found twins G1 and G3 with values 29\n",
      "Found twins G3 and G1 with values 29\n",
      "Found twins H2 and I2 with values 67\n",
      "Found twins H5 and I5 with values 79\n",
      "Found twins I2 and H2 with values 67\n",
      "Found twins I5 and H5 with values 79\n",
      "Found twins E6 and F6 with values 26\n",
      "Found twins E9 and F7 with values 27\n",
      "Found twins F6 and E6 with values 26\n",
      "Found twins F7 and E9 with values 27\n",
      "Found twins G1 and G3 with values 29\n",
      "Found twins G3 and G1 with values 29\n",
      "Found twins H2 and I2 with values 67\n",
      "Found twins H5 and I5 with values 79\n",
      "Found twins I2 and H2 with values 67\n",
      "Found twins I5 and H5 with values 79\n",
      "Found twins B3 and G3 with values 29\n",
      "Found twins G1 and G3 with values 29\n",
      "Found twins G3 and B3 with values 29\n",
      "Found twins G3 and G1 with values 29\n",
      "Found twins H2 and I2 with values 67\n",
      "Found twins I2 and H2 with values 67\n",
      "Final puzzle state...\n",
      "4 1 7 |3 6 9 |8 2 5 \n",
      "6 3 2 |1 5 8 |9 4 7 \n",
      "9 5 8 |7 2 4 |3 1 6 \n",
      "------+------+------\n",
      "8 2 5 |4 3 7 |1 6 9 \n",
      "7 9 1 |5 8 6 |4 3 2 \n",
      "3 4 6 |9 1 2 |7 5 8 \n",
      "------+------+------\n",
      "2 8 9 |6 4 3 |5 7 1 \n",
      "5 7 3 |2 9 1 |6 8 4 \n",
      "1 6 4 |8 7 5 |2 9 3 \n"
     ]
    }
   ],
   "source": [
    "puzzle2 = '4.....8.5.3..........7.....'\\\n",
    "          '.2.....6.....8.4......1....'\\\n",
    "          '...6.3.7.5..2.....1.4......'\n",
    "\n",
    "solve_puzzle(puzzle2)"
   ]
  },
  {
   "cell_type": "code",
   "execution_count": null,
   "metadata": {},
   "outputs": [],
   "source": [
    "hard1 = '.....6....59.....82....8...'\\\n",
    "        '.45........3........6..3.54'\\\n",
    "        '...325..6..................'\n",
    "#solve_puzzle(hard1)"
   ]
  },
  {
   "cell_type": "code",
   "execution_count": null,
   "metadata": {},
   "outputs": [],
   "source": [
    "impossible1 = '.....5.8....6.1.43.........'\\\n",
    "              '.1.5........1.6...3.......5'\\\n",
    "              '53.....61........4.........'\n",
    "\n",
    "impossible2 = '7....5.8....6.1.43.........'\\\n",
    "              '.1.5........1.6...3.......5'\\\n",
    "              '53.....61........4....8....'\n",
    "\n",
    "solve_puzzle(impossible2)"
   ]
  }
 ],
 "metadata": {
  "interpreter": {
   "hash": "23ec4c806166bc7379be8c0034501f0461d78ddd145aa47c24e9e81e5316dfde"
  },
  "kernelspec": {
   "display_name": "Python 3.9.6 64-bit ('aipy': conda)",
   "name": "python3"
  },
  "language_info": {
   "codemirror_mode": {
    "name": "ipython",
    "version": 3
   },
   "file_extension": ".py",
   "mimetype": "text/x-python",
   "name": "python",
   "nbconvert_exporter": "python",
   "pygments_lexer": "ipython3",
   "version": "3.9.6"
  },
  "orig_nbformat": 4
 },
 "nbformat": 4,
 "nbformat_minor": 2
}
